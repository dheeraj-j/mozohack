{
 "cells": [
  {
   "cell_type": "code",
   "execution_count": 14,
   "metadata": {},
   "outputs": [
    {
     "name": "stderr",
     "output_type": "stream",
     "text": [
      "Using TensorFlow backend.\n",
      "C:\\Users\\dheer\\AppData\\Local\\Continuum\\anaconda3\\ANACONDA2\\lib\\site-packages\\h5py\\__init__.py:36: FutureWarning: Conversion of the second argument of issubdtype from `float` to `np.floating` is deprecated. In future, it will be treated as `np.float64 == np.dtype(float).type`.\n",
      "  from ._conv import register_converters as _register_converters\n"
     ]
    }
   ],
   "source": [
    "import numpy as np\n",
    "import pandas as pd\n",
    "import os\n",
    "import cv2\n",
    "\n",
    "#Data Visualization\n",
    "import matplotlib.pyplot as plt\n",
    "import seaborn as sns\n",
    "\n",
    "#Train Test Split\n",
    "from sklearn.model_selection import train_test_split\n",
    "\n",
    "#Model\n",
    "import keras\n",
    "from keras.utils import to_categorical\n",
    "from keras.optimizers import SGD\n",
    "from keras.models import Sequential\n",
    "from keras.layers import Convolution2D, MaxPooling2D, AveragePooling2D\n",
    "from keras.layers import Dense, Flatten, Activation, Dropout\n",
    "from tensorflow.python.framework import ops"
   ]
  },
  {
   "cell_type": "code",
   "execution_count": 2,
   "metadata": {},
   "outputs": [],
   "source": [
    "path='C:/Users/dheer/Desktop/flowers/flowers'\n",
    "os.chdir(path)"
   ]
  },
  {
   "cell_type": "code",
   "execution_count": 10,
   "metadata": {},
   "outputs": [],
   "source": [
    "folder=['daisy','dandelion','rose','sunflower','tulip']\n",
    "images=[]\n",
    "labels=[]\n"
   ]
  },
  {
   "cell_type": "code",
   "execution_count": 11,
   "metadata": {},
   "outputs": [
    {
     "name": "stdout",
     "output_type": "stream",
     "text": [
      "Getting Data for : daisy\n",
      "Getting Data for : dandelion\n",
      "Getting Data for : rose\n",
      "Getting Data for : sunflower\n",
      "Getting Data for : tulip\n"
     ]
    }
   ],
   "source": [
    "img_size=64\n",
    "for folders in folder:\n",
    "    print('Getting Data for :', folders)\n",
    "    for img in os.listdir(os.path.join(path, folders)):\n",
    "        image = cv2.imread(os.path.join(path,folders,img),3)\n",
    "        image = cv2.resize(image,(img_size,img_size))\n",
    "        images.append(image)\n",
    "        #Add Label list\n",
    "        labels.append(folder.index(folders))"
   ]
  },
  {
   "cell_type": "code",
   "execution_count": 12,
   "metadata": {},
   "outputs": [],
   "source": [
    "images_np=np.array(images)\n"
   ]
  },
  {
   "cell_type": "code",
   "execution_count": 13,
   "metadata": {},
   "outputs": [],
   "source": [
    "images_np=images_np.astype('float32')/255.0"
   ]
  },
  {
   "cell_type": "code",
   "execution_count": 15,
   "metadata": {},
   "outputs": [
    {
     "name": "stdout",
     "output_type": "stream",
     "text": [
      "x_train size is : (3026, 64, 64, 3)\n",
      "x_test size is : (1297, 64, 64, 3)\n",
      "y_train size is : 3026\n",
      "y_test size is : 1297\n"
     ]
    }
   ],
   "source": [
    "x_train, x_test, y_train, y_test = train_test_split(images_np, labels, test_size = 0.3, random_state = 42)\n",
    "\n",
    "print('x_train size is :', x_train.shape)\n",
    "print('x_test size is :', x_test.shape)\n",
    "print('y_train size is :', len(y_train))\n",
    "print('y_test size is :', len(y_test))"
   ]
  },
  {
   "cell_type": "code",
   "execution_count": 63,
   "metadata": {},
   "outputs": [
    {
     "name": "stderr",
     "output_type": "stream",
     "text": [
      "C:\\Users\\dheer\\AppData\\Local\\Continuum\\anaconda3\\ANACONDA2\\lib\\site-packages\\ipykernel_launcher.py:2: UserWarning: Update your `Conv2D` call to the Keras 2 API: `Conv2D(32, (3, 3), input_shape=(64, 64, 3..., activation=\"relu\")`\n",
      "  \n",
      "C:\\Users\\dheer\\AppData\\Local\\Continuum\\anaconda3\\ANACONDA2\\lib\\site-packages\\ipykernel_launcher.py:6: UserWarning: Update your `Conv2D` call to the Keras 2 API: `Conv2D(32, (3, 3), activation=\"relu\")`\n",
      "  \n"
     ]
    }
   ],
   "source": [
    "model = Sequential()\n",
    "model.add(Convolution2D(32,3,3, input_shape = x_train[1].shape,activation='relu'))\n",
    "#model.add(Activation('relu'))\n",
    "model.add(MaxPooling2D(pool_size = (2,2)))\n",
    "\n",
    "model.add(Convolution2D(32,3,3,activation = 'relu'))\n",
    "model.add(MaxPooling2D(pool_size = (2,2)))\n",
    "model.add(Dropout(0.5))\n",
    "\n",
    "model.add(Flatten())\n",
    "model.add(Dense(4096, activation = 'relu'))\n",
    "\n",
    "\n",
    "model.add(Dense(5,activation='softmax'))\n",
    "\n",
    "\n",
    "model.compile(optimizer = 'adam', loss = 'sparse_categorical_crossentropy', metrics = ['accuracy'])"
   ]
  },
  {
   "cell_type": "code",
   "execution_count": 64,
   "metadata": {},
   "outputs": [
    {
     "name": "stdout",
     "output_type": "stream",
     "text": [
      "Train on 2723 samples, validate on 303 samples\n",
      "Epoch 1/10\n",
      "2723/2723 [==============================] - 228s - loss: 1.3597 - acc: 0.4414 - val_loss: 1.2569 - val_acc: 0.5050\n",
      "Epoch 2/10\n",
      "2723/2723 [==============================] - 217s - loss: 1.0766 - acc: 0.5622 - val_loss: 1.0411 - val_acc: 0.6172\n",
      "Epoch 3/10\n",
      "2723/2723 [==============================] - 210s - loss: 0.9204 - acc: 0.6471 - val_loss: 1.1244 - val_acc: 0.5380\n",
      "Epoch 4/10\n",
      "2723/2723 [==============================] - 210s - loss: 0.7778 - acc: 0.6952 - val_loss: 1.0392 - val_acc: 0.6172\n",
      "Epoch 5/10\n",
      "2723/2723 [==============================] - 211s - loss: 0.6411 - acc: 0.7484 - val_loss: 1.1616 - val_acc: 0.5776\n",
      "Epoch 6/10\n",
      "2723/2723 [==============================] - 229s - loss: 0.5634 - acc: 0.7885 - val_loss: 1.1204 - val_acc: 0.6106\n",
      "Epoch 7/10\n",
      "2723/2723 [==============================] - 241s - loss: 0.4257 - acc: 0.8439 - val_loss: 1.3999 - val_acc: 0.5710\n",
      "Epoch 8/10\n",
      "2723/2723 [==============================] - 233s - loss: 0.3212 - acc: 0.8895 - val_loss: 1.2022 - val_acc: 0.6271\n",
      "Epoch 9/10\n",
      "2723/2723 [==============================] - 239s - loss: 0.2717 - acc: 0.9093 - val_loss: 1.1532 - val_acc: 0.6172\n",
      "Epoch 10/10\n",
      "2723/2723 [==============================] - 239s - loss: 0.1716 - acc: 0.9453 - val_loss: 1.4779 - val_acc: 0.6271\n"
     ]
    }
   ],
   "source": [
    "trained_model = model.fit(x_train, y_train, validation_split= 0.1, batch_size = 10, epochs = 10, verbose = 1)"
   ]
  },
  {
   "cell_type": "code",
   "execution_count": 84,
   "metadata": {},
   "outputs": [],
   "source": [
    "import numpy as np\n",
    "from keras.preprocessing import image\n",
    "test=image.load_img('C:/Users/dheer/Desktop/download4.jpg',target_size=(64,64))\n"
   ]
  },
  {
   "cell_type": "code",
   "execution_count": 85,
   "metadata": {},
   "outputs": [],
   "source": [
    "test=image.img_to_array(test)"
   ]
  },
  {
   "cell_type": "code",
   "execution_count": 86,
   "metadata": {},
   "outputs": [],
   "source": [
    "test=np.expand_dims(test,axis=0)"
   ]
  },
  {
   "cell_type": "code",
   "execution_count": 87,
   "metadata": {},
   "outputs": [
    {
     "data": {
      "text/plain": [
       "array([[0., 0., 1., 0., 0.]], dtype=float32)"
      ]
     },
     "execution_count": 87,
     "metadata": {},
     "output_type": "execute_result"
    }
   ],
   "source": [
    "pred=model.predict(test)\n",
    "pred"
   ]
  },
  {
   "cell_type": "code",
   "execution_count": 88,
   "metadata": {},
   "outputs": [],
   "source": [
    "from keras.preprocessing.image import ImageDataGenerator"
   ]
  },
  {
   "cell_type": "code",
   "execution_count": 89,
   "metadata": {},
   "outputs": [
    {
     "name": "stdout",
     "output_type": "stream",
     "text": [
      "Found 4323 images belonging to 5 classes.\n"
     ]
    }
   ],
   "source": [
    "train_datagen = ImageDataGenerator(\n",
    "        rescale=1./255,\n",
    "        shear_range=0.2,\n",
    "        zoom_range=0.2,\n",
    "        horizontal_flip=True)\n",
    "\n",
    "test_datagen = ImageDataGenerator(rescale=1./255)\n",
    "\n",
    "training_data = train_datagen.flow_from_directory('C:/Users/dheer/Desktop/flowers/flowers' )\n"
   ]
  },
  {
   "cell_type": "code",
   "execution_count": 50,
   "metadata": {},
   "outputs": [
    {
     "data": {
      "text/plain": [
       "{'daisy': 0, 'dandelion': 1, 'rose': 2, 'sunflower': 3, 'tulip': 4}"
      ]
     },
     "execution_count": 50,
     "metadata": {},
     "output_type": "execute_result"
    }
   ],
   "source": [
    "training_data.class_indices"
   ]
  },
  {
   "cell_type": "code",
   "execution_count": null,
   "metadata": {},
   "outputs": [],
   "source": []
  },
  {
   "cell_type": "code",
   "execution_count": null,
   "metadata": {},
   "outputs": [],
   "source": []
  }
 ],
 "metadata": {
  "kernelspec": {
   "display_name": "Python 3",
   "language": "python",
   "name": "python3"
  },
  "language_info": {
   "codemirror_mode": {
    "name": "ipython",
    "version": 3
   },
   "file_extension": ".py",
   "mimetype": "text/x-python",
   "name": "python",
   "nbconvert_exporter": "python",
   "pygments_lexer": "ipython3",
   "version": "3.6.5"
  }
 },
 "nbformat": 4,
 "nbformat_minor": 2
}
